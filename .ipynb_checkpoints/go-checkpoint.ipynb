{
 "cells": [
  {
   "cell_type": "markdown",
   "id": "90156976",
   "metadata": {},
   "source": [
    "> install guid https://github.com/gopherdata/gophernotes"
   ]
  },
  {
   "cell_type": "code",
   "execution_count": 4,
   "id": "5e26b27f",
   "metadata": {},
   "outputs": [
    {
     "ename": "ERROR",
     "evalue": "repl.go:1:11: expected 'STRING', found newline",
     "output_type": "error",
     "traceback": [
      "repl.go:1:11: expected 'STRING', found newline"
     ]
    }
   ],
   "source": [
    "import fmt"
   ]
  },
  {
   "cell_type": "code",
   "execution_count": 5,
   "id": "42e8d95e",
   "metadata": {},
   "outputs": [
    {
     "name": "stderr",
     "output_type": "stream",
     "text": [
      "hello world\n"
     ]
    }
   ],
   "source": [
    "println(\"hello world\")"
   ]
  },
  {
   "cell_type": "code",
   "execution_count": 2,
   "id": "65cc9f4b",
   "metadata": {},
   "outputs": [
    {
     "data": {
      "text/plain": [
       "42"
      ]
     },
     "execution_count": 2,
     "metadata": {},
     "output_type": "execute_result"
    }
   ],
   "source": [
    "x := 42\n",
    "x"
   ]
  },
  {
   "cell_type": "code",
   "execution_count": 2,
   "id": "ed9a4c6c",
   "metadata": {},
   "outputs": [
    {
     "data": {
      "text/plain": [
       "3"
      ]
     },
     "execution_count": 2,
     "metadata": {},
     "output_type": "execute_result"
    }
   ],
   "source": [
    "var y = 3\n",
    "y"
   ]
  },
  {
   "cell_type": "code",
   "execution_count": 5,
   "id": "3db4d488",
   "metadata": {},
   "outputs": [
    {
     "name": "stdout",
     "output_type": "stream",
     "text": [
      "again: 123\n"
     ]
    }
   ],
   "source": [
    "import (\n",
    "    \"fmt\"\n",
    ")\n",
    "\n",
    "func foo() {\n",
    "    y := 123\n",
    "    fmt.Println(\"again:\", y)\n",
    "}\n",
    "\n",
    "foo()"
   ]
  },
  {
   "cell_type": "code",
   "execution_count": 6,
   "id": "077374bd",
   "metadata": {},
   "outputs": [],
   "source": [
    "var z int"
   ]
  },
  {
   "cell_type": "code",
   "execution_count": 7,
   "id": "e3a3b88d",
   "metadata": {},
   "outputs": [
    {
     "data": {
      "text/plain": [
       "0"
      ]
     },
     "execution_count": 7,
     "metadata": {},
     "output_type": "execute_result"
    }
   ],
   "source": [
    "z"
   ]
  },
  {
   "cell_type": "markdown",
   "id": "0b444d9e",
   "metadata": {},
   "source": [
    "# print variable type"
   ]
  },
  {
   "cell_type": "code",
   "execution_count": 8,
   "id": "47b896ae",
   "metadata": {},
   "outputs": [
    {
     "ename": "ERROR",
     "evalue": "repl.go:1:5: missing variable type or initialization",
     "output_type": "error",
     "traceback": [
      "repl.go:1:5: missing variable type or initialization"
     ]
    }
   ],
   "source": [
    "var xyz"
   ]
  },
  {
   "cell_type": "code",
   "execution_count": 20,
   "id": "1b156de3",
   "metadata": {},
   "outputs": [
    {
     "name": "stdout",
     "output_type": "stream",
     "text": [
      "int\n",
      "string\n",
      "{}%!(EXTRA string=\"hi)"
     ]
    },
    {
     "data": {
      "text/plain": [
       "22 <nil>"
      ]
     },
     "execution_count": 20,
     "metadata": {},
     "output_type": "execute_result"
    }
   ],
   "source": [
    "import \"fmt\"\n",
    "var y = 42\n",
    "// print variable type\n",
    "fmt.Printf(\"%T\\n\", y)\n",
    "var z string = \"Shaken ,not stirred\"\n",
    "fmt.Printf(\"%T\\n\", z)\n",
    "var quote_str = \"\\\"hi\"\n",
    "// `hi \"how are you\"`\n",
    "fmt.Printf(\"{}\", quote_str)"
   ]
  },
  {
   "cell_type": "code",
   "execution_count": 37,
   "id": "bc094aa5",
   "metadata": {},
   "outputs": [
    {
     "name": "stdout",
     "output_type": "stream",
     "text": [
      "42\n",
      "int101010\n",
      "2a\n",
      "0x2a\n",
      "0x2a\t101010\t2a\n",
      "0x2a\t101010\t2a\n",
      "42"
     ]
    },
    {
     "data": {
      "text/plain": [
       "2 <nil>"
      ]
     },
     "execution_count": 37,
     "metadata": {},
     "output_type": "execute_result"
    }
   ],
   "source": [
    "import \"fmt\"\n",
    "var y = 42\n",
    "fmt.Println(y)\n",
    "fmt.Printf(\"%T\", y)\n",
    "fmt.Printf(\"%b\\n\", y)\n",
    "fmt.Printf(\"%x\\n\", y)\n",
    "fmt.Printf(\"%#x\\n\", y)\n",
    "fmt.Printf(\"%#x\\t%b\\t%x\\n\", y, y, y)\n",
    "\n",
    "s := fmt.Sprintf(\"%#x\\t%b\\t%x\\n\", y, y, y)\n",
    "fmt.Printf(s)\n",
    "\n",
    "fmt.Printf(\"%v\", y)"
   ]
  },
  {
   "cell_type": "markdown",
   "id": "501010cd",
   "metadata": {},
   "source": [
    "## custom types and type conversing"
   ]
  },
  {
   "cell_type": "code",
   "execution_count": 44,
   "id": "0f73be14",
   "metadata": {},
   "outputs": [
    {
     "name": "stdout",
     "output_type": "stream",
     "text": [
      "int\n",
      "int\n"
     ]
    },
    {
     "data": {
      "text/plain": [
       "4 <nil>"
      ]
     },
     "execution_count": 44,
     "metadata": {},
     "output_type": "execute_result"
    }
   ],
   "source": [
    "type hotdog int\n",
    "var b hotdog\n",
    "b = 42\n",
    "fmt.Printf(\"%T\\n\", b)\n",
    "var a int\n",
    "a = int(b)\n",
    "fmt.Printf(\"%T\\n\", a)\n"
   ]
  },
  {
   "cell_type": "markdown",
   "id": "3329e7b9",
   "metadata": {},
   "source": [
    "# boolean types"
   ]
  },
  {
   "cell_type": "code",
   "execution_count": 49,
   "id": "7d5acf07",
   "metadata": {},
   "outputs": [
    {
     "data": {
      "text/plain": [
       "false"
      ]
     },
     "execution_count": 49,
     "metadata": {},
     "output_type": "execute_result"
    }
   ],
   "source": [
    "var x bool\n",
    "x"
   ]
  },
  {
   "cell_type": "code",
   "execution_count": 50,
   "id": "bc785bfd",
   "metadata": {},
   "outputs": [
    {
     "data": {
      "text/plain": [
       "false"
      ]
     },
     "execution_count": 50,
     "metadata": {},
     "output_type": "execute_result"
    }
   ],
   "source": [
    "a = 3\n",
    "c = 4\n",
    "a == c"
   ]
  },
  {
   "cell_type": "markdown",
   "id": "52b186f0",
   "metadata": {},
   "source": [
    "# int types"
   ]
  },
  {
   "cell_type": "code",
   "execution_count": 51,
   "id": "9f86685c",
   "metadata": {},
   "outputs": [
    {
     "data": {
      "text/plain": [
       "42"
      ]
     },
     "execution_count": 51,
     "metadata": {},
     "output_type": "execute_result"
    }
   ],
   "source": [
    "x_i := 42\n",
    "y_i := 42.34534\n",
    "x_i"
   ]
  },
  {
   "cell_type": "code",
   "execution_count": 52,
   "id": "ac9ecea5",
   "metadata": {},
   "outputs": [
    {
     "data": {
      "text/plain": [
       "42.34534"
      ]
     },
     "execution_count": 52,
     "metadata": {},
     "output_type": "execute_result"
    }
   ],
   "source": [
    "y_i"
   ]
  },
  {
   "cell_type": "code",
   "execution_count": 53,
   "id": "22468c9c",
   "metadata": {},
   "outputs": [
    {
     "name": "stdout",
     "output_type": "stream",
     "text": [
      "float64\n"
     ]
    },
    {
     "data": {
      "text/plain": [
       "8 <nil>"
      ]
     },
     "execution_count": 53,
     "metadata": {},
     "output_type": "execute_result"
    }
   ],
   "source": [
    "fmt.Printf(\"%T\\n\", y_i)"
   ]
  },
  {
   "cell_type": "code",
   "execution_count": 55,
   "id": "471d09df",
   "metadata": {},
   "outputs": [],
   "source": [
    "var y_f float64"
   ]
  },
  {
   "cell_type": "code",
   "execution_count": 56,
   "id": "695be80d",
   "metadata": {},
   "outputs": [],
   "source": [
    "var x_u uint"
   ]
  },
  {
   "cell_type": "code",
   "execution_count": 57,
   "id": "0b591577",
   "metadata": {},
   "outputs": [
    {
     "data": {
      "text/plain": [
       "0"
      ]
     },
     "execution_count": 57,
     "metadata": {},
     "output_type": "execute_result"
    }
   ],
   "source": [
    "x_u"
   ]
  },
  {
   "cell_type": "code",
   "execution_count": 58,
   "id": "1aeb940b",
   "metadata": {},
   "outputs": [
    {
     "ename": "ERROR",
     "evalue": "repl.go:1:1: error compiling assignment: x_u = -1\n\tuntyped constant {int -1} overflows <uint>",
     "output_type": "error",
     "traceback": [
      "repl.go:1:1: error compiling assignment: x_u = -1\n\tuntyped constant {int -1} overflows <uint>"
     ]
    }
   ],
   "source": [
    "x_u = -1"
   ]
  },
  {
   "cell_type": "code",
   "execution_count": 59,
   "id": "cbbbe607",
   "metadata": {},
   "outputs": [],
   "source": [
    "var x_i8 int8\n"
   ]
  },
  {
   "cell_type": "code",
   "execution_count": 60,
   "id": "28445809",
   "metadata": {},
   "outputs": [
    {
     "ename": "ERROR",
     "evalue": "repl.go:1:1: error compiling assignment: x_i8 = 129\n\tconstant 129 overflows <int8>",
     "output_type": "error",
     "traceback": [
      "repl.go:1:1: error compiling assignment: x_i8 = 129\n\tconstant 129 overflows <int8>"
     ]
    }
   ],
   "source": [
    "x_i8 = 129"
   ]
  },
  {
   "cell_type": "code",
   "execution_count": 67,
   "id": "445aa4fd",
   "metadata": {},
   "outputs": [],
   "source": [
    "// -128 - 127\n",
    "x_i8 = -128"
   ]
  },
  {
   "cell_type": "markdown",
   "id": "1c1b323c",
   "metadata": {},
   "source": [
    "> byte is an alias for uint8\n",
    "\n",
    "> rune is an alias for int32"
   ]
  },
  {
   "cell_type": "code",
   "execution_count": 72,
   "id": "02affa90",
   "metadata": {},
   "outputs": [
    {
     "data": {
      "text/plain": [
       "darwin"
      ]
     },
     "execution_count": 72,
     "metadata": {},
     "output_type": "execute_result"
    }
   ],
   "source": [
    "import (\n",
    "    \"runtime\"\n",
    ")\n",
    "runtime.GOOS"
   ]
  },
  {
   "cell_type": "code",
   "execution_count": 73,
   "id": "31c5d3a3",
   "metadata": {},
   "outputs": [
    {
     "data": {
      "text/plain": [
       "arm64"
      ]
     },
     "execution_count": 73,
     "metadata": {},
     "output_type": "execute_result"
    }
   ],
   "source": [
    "runtime.GOARCH"
   ]
  },
  {
   "cell_type": "code",
   "execution_count": 74,
   "id": "7d7d9005",
   "metadata": {},
   "outputs": [
    {
     "data": {
      "text/plain": [
       "{runtime \"runtime\", 36 binds, 9 types}"
      ]
     },
     "execution_count": 74,
     "metadata": {},
     "output_type": "execute_result"
    }
   ],
   "source": [
    "runtime"
   ]
  },
  {
   "cell_type": "code",
   "execution_count": 75,
   "id": "173f86c3",
   "metadata": {},
   "outputs": [
    {
     "name": "stdout",
     "output_type": "stream",
     "text": [
      "*fast.Import"
     ]
    },
    {
     "data": {
      "text/plain": [
       "12 <nil>"
      ]
     },
     "execution_count": 75,
     "metadata": {},
     "output_type": "execute_result"
    }
   ],
   "source": [
    "fmt.Printf(\"%T\", runtime)"
   ]
  },
  {
   "cell_type": "markdown",
   "id": "e459daed",
   "metadata": {},
   "source": [
    "# strings"
   ]
  },
  {
   "cell_type": "code",
   "execution_count": 76,
   "id": "7527d532",
   "metadata": {},
   "outputs": [
    {
     "data": {
      "text/plain": [
       "Hello world"
      ]
     },
     "execution_count": 76,
     "metadata": {},
     "output_type": "execute_result"
    }
   ],
   "source": [
    "s := \"Hello world\"\n",
    "s"
   ]
  },
  {
   "cell_type": "code",
   "execution_count": 78,
   "id": "8c8a55c0",
   "metadata": {},
   "outputs": [],
   "source": [
    "s1 :=`\"\"`"
   ]
  },
  {
   "cell_type": "code",
   "execution_count": 79,
   "id": "015f4e92",
   "metadata": {},
   "outputs": [
    {
     "data": {
      "text/plain": [
       "\"\""
      ]
     },
     "execution_count": 79,
     "metadata": {},
     "output_type": "execute_result"
    }
   ],
   "source": [
    "s1"
   ]
  },
  {
   "cell_type": "code",
   "execution_count": 80,
   "id": "1521d415",
   "metadata": {},
   "outputs": [],
   "source": [
    "s2 := `abc\"`"
   ]
  },
  {
   "cell_type": "code",
   "execution_count": 81,
   "id": "998e840f",
   "metadata": {},
   "outputs": [
    {
     "data": {
      "text/plain": [
       "abc\""
      ]
     },
     "execution_count": 81,
     "metadata": {},
     "output_type": "execute_result"
    }
   ],
   "source": [
    "s2"
   ]
  },
  {
   "cell_type": "code",
   "execution_count": 82,
   "id": "e5a582f5",
   "metadata": {},
   "outputs": [
    {
     "ename": "ERROR",
     "evalue": "repl.go:1:10: raw string literal not terminated",
     "output_type": "error",
     "traceback": [
      "repl.go:1:10: raw string literal not terminated"
     ]
    }
   ],
   "source": [
    "s3  := ```"
   ]
  },
  {
   "cell_type": "code",
   "execution_count": 83,
   "id": "01253953",
   "metadata": {},
   "outputs": [],
   "source": [
    "s4 := '\\''"
   ]
  },
  {
   "cell_type": "code",
   "execution_count": 84,
   "id": "05ae6caa",
   "metadata": {},
   "outputs": [
    {
     "data": {
      "text/plain": [
       "39"
      ]
     },
     "execution_count": 84,
     "metadata": {},
     "output_type": "execute_result"
    }
   ],
   "source": [
    "s4"
   ]
  },
  {
   "cell_type": "code",
   "execution_count": 85,
   "id": "ea8f1e59",
   "metadata": {},
   "outputs": [],
   "source": [
    "s5 := `\\'a`"
   ]
  },
  {
   "cell_type": "code",
   "execution_count": 86,
   "id": "5dfd6dc2",
   "metadata": {},
   "outputs": [
    {
     "data": {
      "text/plain": [
       "\\'a"
      ]
     },
     "execution_count": 86,
     "metadata": {},
     "output_type": "execute_result"
    }
   ],
   "source": [
    "s5"
   ]
  },
  {
   "cell_type": "code",
   "execution_count": 91,
   "id": "71183e7d",
   "metadata": {},
   "outputs": [
    {
     "name": "stdout",
     "output_type": "stream",
     "text": [
      "[72 101 108 108 111 44 32 103 111 108 97 110 103 44 230 156 128 230 150 176 230 163 128 230 159 165 231 130 185 58 32 49 32 229 164 169 229 137 141]\n"
     ]
    },
    {
     "data": {
      "text/plain": [
       "149 <nil>"
      ]
     },
     "execution_count": 91,
     "metadata": {},
     "output_type": "execute_result"
    }
   ],
   "source": [
    "s7 := \"Hello, golang,最新检查点: 1 天前\"\n",
    "bs := []byte(s7)\n",
    "fmt.Println(bs)"
   ]
  },
  {
   "cell_type": "code",
   "execution_count": 92,
   "id": "667f3e5d",
   "metadata": {},
   "outputs": [
    {
     "data": {
      "text/plain": [
       "[230 156 128]"
      ]
     },
     "execution_count": 92,
     "metadata": {},
     "output_type": "execute_result"
    }
   ],
   "source": [
    "s8 := \"最\"\n",
    "bs2 := []byte(s8)\n",
    "bs2\n"
   ]
  },
  {
   "cell_type": "code",
   "execution_count": 95,
   "id": "2bd994d3",
   "metadata": {},
   "outputs": [
    {
     "name": "stdout",
     "output_type": "stream",
     "text": [
      "U+0061 'a'"
     ]
    },
    {
     "data": {
      "text/plain": [
       "10 <nil>"
      ]
     },
     "execution_count": 95,
     "metadata": {},
     "output_type": "execute_result"
    }
   ],
   "source": [
    "fmt.Printf(\"%#U\", 'a')"
   ]
  },
  {
   "cell_type": "code",
   "execution_count": 96,
   "id": "d23ad8cb",
   "metadata": {},
   "outputs": [
    {
     "name": "stdout",
     "output_type": "stream",
     "text": [
      "%!U(string=最)"
     ]
    },
    {
     "data": {
      "text/plain": [
       "15 <nil>"
      ]
     },
     "execution_count": 96,
     "metadata": {},
     "output_type": "execute_result"
    }
   ],
   "source": [
    "fmt.Printf(\"%#U\", s8)"
   ]
  },
  {
   "cell_type": "code",
   "execution_count": null,
   "id": "0578488e",
   "metadata": {},
   "outputs": [],
   "source": []
  }
 ],
 "metadata": {
  "kernelspec": {
   "display_name": "Go",
   "language": "go",
   "name": "gophernotes"
  },
  "language_info": {
   "codemirror_mode": "",
   "file_extension": ".go",
   "mimetype": "",
   "name": "go",
   "nbconvert_exporter": "",
   "pygments_lexer": "",
   "version": "go1.23.0"
  }
 },
 "nbformat": 4,
 "nbformat_minor": 5
}
