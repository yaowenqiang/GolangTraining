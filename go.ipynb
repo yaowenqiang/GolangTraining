{
 "cells": [
  {
   "cell_type": "markdown",
   "id": "90156976",
   "metadata": {},
   "source": [
    "> install guid https://github.com/gopherdata/gophernotes"
   ]
  },
  {
   "cell_type": "code",
   "execution_count": 10,
   "id": "5e26b27f",
   "metadata": {},
   "outputs": [
    {
     "ename": "ERROR",
     "evalue": "repl.go:1:11: expected 'STRING', found newline",
     "output_type": "error",
     "traceback": [
      "repl.go:1:11: expected 'STRING', found newline"
     ]
    }
   ],
   "source": [
    "import fmt"
   ]
  },
  {
   "cell_type": "code",
   "execution_count": 5,
   "id": "42e8d95e",
   "metadata": {},
   "outputs": [
    {
     "name": "stderr",
     "output_type": "stream",
     "text": [
      "hello world\n"
     ]
    }
   ],
   "source": [
    "println(\"hello world\")"
   ]
  },
  {
   "cell_type": "code",
   "execution_count": 6,
   "id": "65cc9f4b",
   "metadata": {},
   "outputs": [
    {
     "data": {
      "text/plain": [
       "42"
      ]
     },
     "execution_count": 6,
     "metadata": {},
     "output_type": "execute_result"
    }
   ],
   "source": [
    "x := 42\n",
    "x"
   ]
  },
  {
   "cell_type": "code",
   "execution_count": 2,
   "id": "ed9a4c6c",
   "metadata": {},
   "outputs": [
    {
     "data": {
      "text/plain": [
       "3"
      ]
     },
     "execution_count": 2,
     "metadata": {},
     "output_type": "execute_result"
    }
   ],
   "source": [
    "var y = 3\n",
    "y"
   ]
  },
  {
   "cell_type": "code",
   "execution_count": 5,
   "id": "3db4d488",
   "metadata": {},
   "outputs": [
    {
     "name": "stdout",
     "output_type": "stream",
     "text": [
      "again: 123\n"
     ]
    }
   ],
   "source": [
    "import (\n",
    "    \"fmt\"\n",
    ")\n",
    "\n",
    "func foo() {\n",
    "    y := 123\n",
    "    fmt.Println(\"again:\", y)\n",
    "}\n",
    "\n",
    "foo()"
   ]
  },
  {
   "cell_type": "code",
   "execution_count": 6,
   "id": "077374bd",
   "metadata": {},
   "outputs": [],
   "source": [
    "var z int"
   ]
  },
  {
   "cell_type": "code",
   "execution_count": 7,
   "id": "e3a3b88d",
   "metadata": {},
   "outputs": [
    {
     "data": {
      "text/plain": [
       "0"
      ]
     },
     "execution_count": 7,
     "metadata": {},
     "output_type": "execute_result"
    }
   ],
   "source": [
    "z"
   ]
  },
  {
   "cell_type": "code",
   "execution_count": 8,
   "id": "47b896ae",
   "metadata": {},
   "outputs": [
    {
     "ename": "ERROR",
     "evalue": "repl.go:1:5: missing variable type or initialization",
     "output_type": "error",
     "traceback": [
      "repl.go:1:5: missing variable type or initialization"
     ]
    }
   ],
   "source": [
    "var xyz"
   ]
  },
  {
   "cell_type": "code",
   "execution_count": null,
   "id": "1b156de3",
   "metadata": {},
   "outputs": [],
   "source": []
  }
 ],
 "metadata": {
  "kernelspec": {
   "display_name": "Go",
   "language": "go",
   "name": "gophernotes"
  },
  "language_info": {
   "codemirror_mode": "",
   "file_extension": ".go",
   "mimetype": "",
   "name": "go",
   "nbconvert_exporter": "",
   "pygments_lexer": "",
   "version": "go1.23.0"
  }
 },
 "nbformat": 4,
 "nbformat_minor": 5
}
