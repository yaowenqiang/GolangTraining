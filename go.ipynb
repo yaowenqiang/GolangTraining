{
 "cells": [
  {
   "cell_type": "markdown",
   "id": "90156976",
   "metadata": {},
   "source": [
    "> install guid https://github.com/gopherdata/gophernotes"
   ]
  },
  {
   "cell_type": "code",
   "execution_count": 4,
   "id": "5e26b27f",
   "metadata": {},
   "outputs": [
    {
     "ename": "ERROR",
     "evalue": "repl.go:1:11: expected 'STRING', found newline",
     "output_type": "error",
     "traceback": [
      "repl.go:1:11: expected 'STRING', found newline"
     ]
    }
   ],
   "source": [
    "import fmt"
   ]
  },
  {
   "cell_type": "code",
   "execution_count": 5,
   "id": "42e8d95e",
   "metadata": {},
   "outputs": [
    {
     "name": "stderr",
     "output_type": "stream",
     "text": [
      "hello world\n"
     ]
    }
   ],
   "source": [
    "println(\"hello world\")"
   ]
  },
  {
   "cell_type": "code",
   "execution_count": 2,
   "id": "65cc9f4b",
   "metadata": {},
   "outputs": [
    {
     "data": {
      "text/plain": [
       "42"
      ]
     },
     "execution_count": 2,
     "metadata": {},
     "output_type": "execute_result"
    }
   ],
   "source": [
    "x := 42\n",
    "x"
   ]
  },
  {
   "cell_type": "code",
   "execution_count": 2,
   "id": "ed9a4c6c",
   "metadata": {},
   "outputs": [
    {
     "data": {
      "text/plain": [
       "3"
      ]
     },
     "execution_count": 2,
     "metadata": {},
     "output_type": "execute_result"
    }
   ],
   "source": [
    "var y = 3\n",
    "y"
   ]
  },
  {
   "cell_type": "code",
   "execution_count": 5,
   "id": "3db4d488",
   "metadata": {},
   "outputs": [
    {
     "name": "stdout",
     "output_type": "stream",
     "text": [
      "again: 123\n"
     ]
    }
   ],
   "source": [
    "import (\n",
    "    \"fmt\"\n",
    ")\n",
    "\n",
    "func foo() {\n",
    "    y := 123\n",
    "    fmt.Println(\"again:\", y)\n",
    "}\n",
    "\n",
    "foo()"
   ]
  },
  {
   "cell_type": "code",
   "execution_count": 6,
   "id": "077374bd",
   "metadata": {},
   "outputs": [],
   "source": [
    "var z int"
   ]
  },
  {
   "cell_type": "code",
   "execution_count": 7,
   "id": "e3a3b88d",
   "metadata": {},
   "outputs": [
    {
     "data": {
      "text/plain": [
       "0"
      ]
     },
     "execution_count": 7,
     "metadata": {},
     "output_type": "execute_result"
    }
   ],
   "source": [
    "z"
   ]
  },
  {
   "cell_type": "markdown",
   "id": "0b444d9e",
   "metadata": {},
   "source": [
    "# print variable type"
   ]
  },
  {
   "cell_type": "code",
   "execution_count": 8,
   "id": "47b896ae",
   "metadata": {},
   "outputs": [
    {
     "ename": "ERROR",
     "evalue": "repl.go:1:5: missing variable type or initialization",
     "output_type": "error",
     "traceback": [
      "repl.go:1:5: missing variable type or initialization"
     ]
    }
   ],
   "source": [
    "var xyz"
   ]
  },
  {
   "cell_type": "code",
   "execution_count": 20,
   "id": "1b156de3",
   "metadata": {},
   "outputs": [
    {
     "name": "stdout",
     "output_type": "stream",
     "text": [
      "int\n",
      "string\n",
      "{}%!(EXTRA string=\"hi)"
     ]
    },
    {
     "data": {
      "text/plain": [
       "22 <nil>"
      ]
     },
     "execution_count": 20,
     "metadata": {},
     "output_type": "execute_result"
    }
   ],
   "source": [
    "import \"fmt\"\n",
    "var y = 42\n",
    "// print variable type\n",
    "fmt.Printf(\"%T\\n\", y)\n",
    "var z string = \"Shaken ,not stirred\"\n",
    "fmt.Printf(\"%T\\n\", z)\n",
    "var quote_str = \"\\\"hi\"\n",
    "// `hi \"how are you\"`\n",
    "fmt.Printf(\"{}\", quote_str)"
   ]
  },
  {
   "cell_type": "code",
   "execution_count": 37,
   "id": "bc094aa5",
   "metadata": {},
   "outputs": [
    {
     "name": "stdout",
     "output_type": "stream",
     "text": [
      "42\n",
      "int101010\n",
      "2a\n",
      "0x2a\n",
      "0x2a\t101010\t2a\n",
      "0x2a\t101010\t2a\n",
      "42"
     ]
    },
    {
     "data": {
      "text/plain": [
       "2 <nil>"
      ]
     },
     "execution_count": 37,
     "metadata": {},
     "output_type": "execute_result"
    }
   ],
   "source": [
    "import \"fmt\"\n",
    "var y = 42\n",
    "fmt.Println(y)\n",
    "fmt.Printf(\"%T\", y)\n",
    "fmt.Printf(\"%b\\n\", y)\n",
    "fmt.Printf(\"%x\\n\", y)\n",
    "fmt.Printf(\"%#x\\n\", y)\n",
    "fmt.Printf(\"%#x\\t%b\\t%x\\n\", y, y, y)\n",
    "\n",
    "s := fmt.Sprintf(\"%#x\\t%b\\t%x\\n\", y, y, y)\n",
    "fmt.Printf(s)\n",
    "\n",
    "fmt.Printf(\"%v\", y)"
   ]
  },
  {
   "cell_type": "markdown",
   "id": "501010cd",
   "metadata": {},
   "source": [
    "## custom types and type conversing"
   ]
  },
  {
   "cell_type": "code",
   "execution_count": 44,
   "id": "0f73be14",
   "metadata": {},
   "outputs": [
    {
     "name": "stdout",
     "output_type": "stream",
     "text": [
      "int\n",
      "int\n"
     ]
    },
    {
     "data": {
      "text/plain": [
       "4 <nil>"
      ]
     },
     "execution_count": 44,
     "metadata": {},
     "output_type": "execute_result"
    }
   ],
   "source": [
    "type hotdog int\n",
    "var b hotdog\n",
    "b = 42\n",
    "fmt.Printf(\"%T\\n\", b)\n",
    "var a int\n",
    "a = int(b)\n",
    "fmt.Printf(\"%T\\n\", a)\n"
   ]
  },
  {
   "cell_type": "markdown",
   "id": "3329e7b9",
   "metadata": {},
   "source": [
    "# boolean types"
   ]
  },
  {
   "cell_type": "code",
   "execution_count": 49,
   "id": "7d5acf07",
   "metadata": {},
   "outputs": [
    {
     "data": {
      "text/plain": [
       "false"
      ]
     },
     "execution_count": 49,
     "metadata": {},
     "output_type": "execute_result"
    }
   ],
   "source": [
    "var x bool\n",
    "x"
   ]
  },
  {
   "cell_type": "code",
   "execution_count": 50,
   "id": "bc785bfd",
   "metadata": {},
   "outputs": [
    {
     "data": {
      "text/plain": [
       "false"
      ]
     },
     "execution_count": 50,
     "metadata": {},
     "output_type": "execute_result"
    }
   ],
   "source": [
    "a = 3\n",
    "c = 4\n",
    "a == c"
   ]
  },
  {
   "cell_type": "markdown",
   "id": "52b186f0",
   "metadata": {},
   "source": [
    "# int types"
   ]
  },
  {
   "cell_type": "code",
   "execution_count": 51,
   "id": "9f86685c",
   "metadata": {},
   "outputs": [
    {
     "data": {
      "text/plain": [
       "42"
      ]
     },
     "execution_count": 51,
     "metadata": {},
     "output_type": "execute_result"
    }
   ],
   "source": [
    "x_i := 42\n",
    "y_i := 42.34534\n",
    "x_i"
   ]
  },
  {
   "cell_type": "code",
   "execution_count": 52,
   "id": "ac9ecea5",
   "metadata": {},
   "outputs": [
    {
     "data": {
      "text/plain": [
       "42.34534"
      ]
     },
     "execution_count": 52,
     "metadata": {},
     "output_type": "execute_result"
    }
   ],
   "source": [
    "y_i"
   ]
  },
  {
   "cell_type": "code",
   "execution_count": 53,
   "id": "22468c9c",
   "metadata": {},
   "outputs": [
    {
     "name": "stdout",
     "output_type": "stream",
     "text": [
      "float64\n"
     ]
    },
    {
     "data": {
      "text/plain": [
       "8 <nil>"
      ]
     },
     "execution_count": 53,
     "metadata": {},
     "output_type": "execute_result"
    }
   ],
   "source": [
    "fmt.Printf(\"%T\\n\", y_i)"
   ]
  },
  {
   "cell_type": "code",
   "execution_count": 55,
   "id": "471d09df",
   "metadata": {},
   "outputs": [],
   "source": [
    "var y_f float64"
   ]
  },
  {
   "cell_type": "code",
   "execution_count": 56,
   "id": "695be80d",
   "metadata": {},
   "outputs": [],
   "source": [
    "var x_u uint"
   ]
  },
  {
   "cell_type": "code",
   "execution_count": 57,
   "id": "0b591577",
   "metadata": {},
   "outputs": [
    {
     "data": {
      "text/plain": [
       "0"
      ]
     },
     "execution_count": 57,
     "metadata": {},
     "output_type": "execute_result"
    }
   ],
   "source": [
    "x_u"
   ]
  },
  {
   "cell_type": "code",
   "execution_count": 58,
   "id": "1aeb940b",
   "metadata": {},
   "outputs": [
    {
     "ename": "ERROR",
     "evalue": "repl.go:1:1: error compiling assignment: x_u = -1\n\tuntyped constant {int -1} overflows <uint>",
     "output_type": "error",
     "traceback": [
      "repl.go:1:1: error compiling assignment: x_u = -1\n\tuntyped constant {int -1} overflows <uint>"
     ]
    }
   ],
   "source": [
    "x_u = -1"
   ]
  },
  {
   "cell_type": "code",
   "execution_count": 59,
   "id": "cbbbe607",
   "metadata": {},
   "outputs": [],
   "source": [
    "var x_i8 int8\n"
   ]
  },
  {
   "cell_type": "code",
   "execution_count": 60,
   "id": "28445809",
   "metadata": {},
   "outputs": [
    {
     "ename": "ERROR",
     "evalue": "repl.go:1:1: error compiling assignment: x_i8 = 129\n\tconstant 129 overflows <int8>",
     "output_type": "error",
     "traceback": [
      "repl.go:1:1: error compiling assignment: x_i8 = 129\n\tconstant 129 overflows <int8>"
     ]
    }
   ],
   "source": [
    "x_i8 = 129"
   ]
  },
  {
   "cell_type": "code",
   "execution_count": 67,
   "id": "445aa4fd",
   "metadata": {},
   "outputs": [],
   "source": [
    "// -128 - 127\n",
    "x_i8 = -128"
   ]
  },
  {
   "cell_type": "markdown",
   "id": "1c1b323c",
   "metadata": {},
   "source": [
    "> byte is an alias for uint8\n",
    "\n",
    "> rune is an alias for int32"
   ]
  },
  {
   "cell_type": "code",
   "execution_count": 72,
   "id": "02affa90",
   "metadata": {},
   "outputs": [
    {
     "data": {
      "text/plain": [
       "darwin"
      ]
     },
     "execution_count": 72,
     "metadata": {},
     "output_type": "execute_result"
    }
   ],
   "source": [
    "import (\n",
    "    \"runtime\"\n",
    ")\n",
    "runtime.GOOS"
   ]
  },
  {
   "cell_type": "code",
   "execution_count": 73,
   "id": "31c5d3a3",
   "metadata": {},
   "outputs": [
    {
     "data": {
      "text/plain": [
       "arm64"
      ]
     },
     "execution_count": 73,
     "metadata": {},
     "output_type": "execute_result"
    }
   ],
   "source": [
    "runtime.GOARCH"
   ]
  },
  {
   "cell_type": "code",
   "execution_count": 74,
   "id": "7d7d9005",
   "metadata": {},
   "outputs": [
    {
     "data": {
      "text/plain": [
       "{runtime \"runtime\", 36 binds, 9 types}"
      ]
     },
     "execution_count": 74,
     "metadata": {},
     "output_type": "execute_result"
    }
   ],
   "source": [
    "runtime"
   ]
  },
  {
   "cell_type": "code",
   "execution_count": 75,
   "id": "173f86c3",
   "metadata": {},
   "outputs": [
    {
     "name": "stdout",
     "output_type": "stream",
     "text": [
      "*fast.Import"
     ]
    },
    {
     "data": {
      "text/plain": [
       "12 <nil>"
      ]
     },
     "execution_count": 75,
     "metadata": {},
     "output_type": "execute_result"
    }
   ],
   "source": [
    "fmt.Printf(\"%T\", runtime)"
   ]
  },
  {
   "cell_type": "markdown",
   "id": "2322a341",
   "metadata": {},
   "source": [
    "# strings"
   ]
  },
  {
   "cell_type": "code",
   "execution_count": 76,
   "id": "5439cbd2",
   "metadata": {},
   "outputs": [
    {
     "data": {
      "text/plain": [
       "Hello world"
      ]
     },
     "execution_count": 76,
     "metadata": {},
     "output_type": "execute_result"
    }
   ],
   "source": [
    "s := \"Hello world\"\n",
    "s"
   ]
  },
  {
   "cell_type": "code",
   "execution_count": 78,
   "id": "38051f5b",
   "metadata": {},
   "outputs": [],
   "source": [
    "s1 :=`\"\"`"
   ]
  },
  {
   "cell_type": "code",
   "execution_count": 79,
   "id": "8ca4e7b5",
   "metadata": {},
   "outputs": [
    {
     "data": {
      "text/plain": [
       "\"\""
      ]
     },
     "execution_count": 79,
     "metadata": {},
     "output_type": "execute_result"
    }
   ],
   "source": [
    "s1"
   ]
  },
  {
   "cell_type": "code",
   "execution_count": 80,
   "id": "a0433acb",
   "metadata": {},
   "outputs": [],
   "source": [
    "s2 := `abc\"`"
   ]
  },
  {
   "cell_type": "code",
   "execution_count": 81,
   "id": "6dc6530a",
   "metadata": {},
   "outputs": [
    {
     "data": {
      "text/plain": [
       "abc\""
      ]
     },
     "execution_count": 81,
     "metadata": {},
     "output_type": "execute_result"
    }
   ],
   "source": [
    "s2"
   ]
  },
  {
   "cell_type": "code",
   "execution_count": 82,
   "id": "b8e92148",
   "metadata": {},
   "outputs": [
    {
     "ename": "ERROR",
     "evalue": "repl.go:1:10: raw string literal not terminated",
     "output_type": "error",
     "traceback": [
      "repl.go:1:10: raw string literal not terminated"
     ]
    }
   ],
   "source": [
    "s3  := ```"
   ]
  },
  {
   "cell_type": "code",
   "execution_count": 83,
   "id": "122c2649",
   "metadata": {},
   "outputs": [],
   "source": [
    "s4 := '\\''"
   ]
  },
  {
   "cell_type": "code",
   "execution_count": 84,
   "id": "8260e785",
   "metadata": {},
   "outputs": [
    {
     "data": {
      "text/plain": [
       "39"
      ]
     },
     "execution_count": 84,
     "metadata": {},
     "output_type": "execute_result"
    }
   ],
   "source": [
    "s4"
   ]
  },
  {
   "cell_type": "code",
   "execution_count": 85,
   "id": "7b48abcd",
   "metadata": {},
   "outputs": [],
   "source": [
    "s5 := `\\'a`"
   ]
  },
  {
   "cell_type": "code",
   "execution_count": 86,
   "id": "eaba62f3",
   "metadata": {},
   "outputs": [
    {
     "data": {
      "text/plain": [
       "\\'a"
      ]
     },
     "execution_count": 86,
     "metadata": {},
     "output_type": "execute_result"
    }
   ],
   "source": [
    "s5"
   ]
  },
  {
   "cell_type": "code",
   "execution_count": 91,
   "id": "9da0da9c",
   "metadata": {},
   "outputs": [
    {
     "name": "stdout",
     "output_type": "stream",
     "text": [
      "[72 101 108 108 111 44 32 103 111 108 97 110 103 44 230 156 128 230 150 176 230 163 128 230 159 165 231 130 185 58 32 49 32 229 164 169 229 137 141]\n"
     ]
    },
    {
     "data": {
      "text/plain": [
       "149 <nil>"
      ]
     },
     "execution_count": 91,
     "metadata": {},
     "output_type": "execute_result"
    }
   ],
   "source": [
    "s7 := \"Hello, golang,最新检查点: 1 天前\"\n",
    "bs := []byte(s7)\n",
    "fmt.Println(bs)"
   ]
  },
  {
   "cell_type": "code",
   "execution_count": 92,
   "id": "6973eea8",
   "metadata": {},
   "outputs": [
    {
     "data": {
      "text/plain": [
       "[230 156 128]"
      ]
     },
     "execution_count": 92,
     "metadata": {},
     "output_type": "execute_result"
    }
   ],
   "source": [
    "s8 := \"最\"\n",
    "bs2 := []byte(s8)\n",
    "bs2\n"
   ]
  },
  {
   "cell_type": "code",
   "execution_count": 95,
   "id": "d729b07a",
   "metadata": {},
   "outputs": [
    {
     "name": "stdout",
     "output_type": "stream",
     "text": [
      "U+0061 'a'"
     ]
    },
    {
     "data": {
      "text/plain": [
       "10 <nil>"
      ]
     },
     "execution_count": 95,
     "metadata": {},
     "output_type": "execute_result"
    }
   ],
   "source": [
    "fmt.Printf(\"%#U\", 'a')"
   ]
  },
  {
   "cell_type": "code",
   "execution_count": 96,
   "id": "ab327095",
   "metadata": {},
   "outputs": [
    {
     "name": "stdout",
     "output_type": "stream",
     "text": [
      "%!U(string=最)"
     ]
    },
    {
     "data": {
      "text/plain": [
       "15 <nil>"
      ]
     },
     "execution_count": 96,
     "metadata": {},
     "output_type": "execute_result"
    }
   ],
   "source": [
    "fmt.Printf(\"%#U\", s8)"
   ]
  },
  {
   "cell_type": "markdown",
   "id": "84918c36",
   "metadata": {},
   "source": [
    "https://go.dev/blog/strings\n"
   ]
  },
  {
   "cell_type": "code",
   "execution_count": 98,
   "id": "77f12818",
   "metadata": {},
   "outputs": [
    {
     "data": {
      "text/plain": [
       "H"
      ]
     },
     "execution_count": 98,
     "metadata": {},
     "output_type": "execute_result"
    }
   ],
   "source": [
    "s := \"H\"\n",
    "s"
   ]
  },
  {
   "cell_type": "code",
   "execution_count": 99,
   "id": "4eeb7d7f",
   "metadata": {},
   "outputs": [
    {
     "data": {
      "text/plain": [
       "h"
      ]
     },
     "execution_count": 99,
     "metadata": {},
     "output_type": "execute_result"
    }
   ],
   "source": [
    "s = 'h'\n",
    "s"
   ]
  },
  {
   "cell_type": "code",
   "execution_count": 100,
   "id": "8269adea",
   "metadata": {},
   "outputs": [
    {
     "name": "stdout",
     "output_type": "stream",
     "text": [
      "string"
     ]
    },
    {
     "data": {
      "text/plain": [
       "6 <nil>"
      ]
     },
     "execution_count": 100,
     "metadata": {},
     "output_type": "execute_result"
    }
   ],
   "source": [
    "fmt.Printf(\"%T\", s)"
   ]
  },
  {
   "cell_type": "code",
   "execution_count": 103,
   "id": "75f87844",
   "metadata": {},
   "outputs": [
    {
     "data": {
      "text/plain": [
       "104"
      ]
     },
     "execution_count": 103,
     "metadata": {},
     "output_type": "execute_result"
    }
   ],
   "source": [
    "s2 := 'h'\n",
    "s2"
   ]
  },
  {
   "cell_type": "code",
   "execution_count": 104,
   "id": "a5eb60ec",
   "metadata": {},
   "outputs": [
    {
     "name": "stdout",
     "output_type": "stream",
     "text": [
      "%T%!(EXTRA int32=104)"
     ]
    },
    {
     "data": {
      "text/plain": [
       "21 <nil>"
      ]
     },
     "execution_count": 104,
     "metadata": {},
     "output_type": "execute_result"
    }
   ],
   "source": [
    "fmt.Printf(\"%%T\", s2)"
   ]
  },
  {
   "cell_type": "code",
   "execution_count": 106,
   "id": "265bd6dd",
   "metadata": {},
   "outputs": [
    {
     "ename": "ERROR",
     "evalue": "repl.go:1:7: mismatched types in binary operation == between <int32> and <string>: s2 == s",
     "output_type": "error",
     "traceback": [
      "repl.go:1:7: mismatched types in binary operation == between <int32> and <string>: s2 == s"
     ]
    }
   ],
   "source": [
    "s2 == s"
   ]
  },
  {
   "cell_type": "code",
   "execution_count": 107,
   "id": "f6931fdd",
   "metadata": {},
   "outputs": [
    {
     "data": {
      "text/plain": [
       "h"
      ]
     },
     "execution_count": 107,
     "metadata": {},
     "output_type": "execute_result"
    }
   ],
   "source": [
    "s"
   ]
  },
  {
   "cell_type": "code",
   "execution_count": 108,
   "id": "d63b2c3b",
   "metadata": {},
   "outputs": [
    {
     "data": {
      "text/plain": [
       "true"
      ]
     },
     "execution_count": 108,
     "metadata": {},
     "output_type": "execute_result"
    }
   ],
   "source": [
    "s == 'h'"
   ]
  },
  {
   "cell_type": "code",
   "execution_count": 109,
   "id": "59115a0c",
   "metadata": {},
   "outputs": [
    {
     "data": {
      "text/plain": [
       "true"
      ]
     },
     "execution_count": 109,
     "metadata": {},
     "output_type": "execute_result"
    }
   ],
   "source": [
    "s2 == 'h'"
   ]
  },
  {
   "cell_type": "code",
   "execution_count": 110,
   "id": "9fa2cc7a",
   "metadata": {},
   "outputs": [
    {
     "ename": "ERROR",
     "evalue": "repl.go:1:6: mismatched types in binary operation == between <string> and <int32>: s == s2",
     "output_type": "error",
     "traceback": [
      "repl.go:1:6: mismatched types in binary operation == between <string> and <int32>: s == s2"
     ]
    }
   ],
   "source": [
    "s == s2"
   ]
  },
  {
   "cell_type": "code",
   "execution_count": 112,
   "id": "89806f29",
   "metadata": {},
   "outputs": [
    {
     "name": "stdout",
     "output_type": "stream",
     "text": [
      "string"
     ]
    },
    {
     "data": {
      "text/plain": [
       "6 <nil>"
      ]
     },
     "execution_count": 112,
     "metadata": {},
     "output_type": "execute_result"
    }
   ],
   "source": [
    "fmt.Printf(\"%T\", s)"
   ]
  },
  {
   "cell_type": "code",
   "execution_count": 113,
   "id": "79e60c1b",
   "metadata": {},
   "outputs": [
    {
     "name": "stdout",
     "output_type": "stream",
     "text": [
      "int32"
     ]
    },
    {
     "data": {
      "text/plain": [
       "5 <nil>"
      ]
     },
     "execution_count": 113,
     "metadata": {},
     "output_type": "execute_result"
    }
   ],
   "source": [
    "fmt.Printf(\"%T\", s2)"
   ]
  },
  {
   "cell_type": "code",
   "execution_count": 114,
   "id": "37a1a14d",
   "metadata": {},
   "outputs": [
    {
     "data": {
      "text/plain": [
       "h"
      ]
     },
     "execution_count": 114,
     "metadata": {},
     "output_type": "execute_result"
    }
   ],
   "source": [
    "s"
   ]
  },
  {
   "cell_type": "code",
   "execution_count": 117,
   "id": "94f5ec56",
   "metadata": {},
   "outputs": [
    {
     "data": {
      "text/plain": [
       "true"
      ]
     },
     "execution_count": 117,
     "metadata": {},
     "output_type": "execute_result"
    }
   ],
   "source": [
    "s2 == 'h'"
   ]
  },
  {
   "cell_type": "code",
   "execution_count": 120,
   "id": "3c5b9521",
   "metadata": {},
   "outputs": [
    {
     "data": {
      "text/plain": [
       "true"
      ]
     },
     "execution_count": 120,
     "metadata": {},
     "output_type": "execute_result"
    }
   ],
   "source": [
    "s == 'h'"
   ]
  },
  {
   "cell_type": "code",
   "execution_count": 125,
   "id": "d6e5f63a",
   "metadata": {},
   "outputs": [
    {
     "ename": "ERROR",
     "evalue": "repl.go:2:10: mismatched types in binary operation == between <uint8> and <int32>: s3[0] == s2",
     "output_type": "error",
     "traceback": [
      "repl.go:2:10: mismatched types in binary operation == between <uint8> and <int32>: s3[0] == s2"
     ]
    }
   ],
   "source": [
    "s3 := \"h\"\n",
    "s3[0] == s2"
   ]
  },
  {
   "cell_type": "code",
   "execution_count": 123,
   "id": "71325097",
   "metadata": {},
   "outputs": [
    {
     "ename": "ERROR",
     "evalue": "runtime error: index out of range [1] with length 1",
     "output_type": "error",
     "traceback": [
      "runtime error: index out of range [1] with length 1"
     ]
    }
   ],
   "source": [
    "s3[1]"
   ]
  },
  {
   "cell_type": "code",
   "execution_count": 127,
   "id": "bdce252d",
   "metadata": {},
   "outputs": [
    {
     "name": "stdout",
     "output_type": "stream",
     "text": [
      "104"
     ]
    },
    {
     "data": {
      "text/plain": [
       "3 <nil>"
      ]
     },
     "execution_count": 127,
     "metadata": {},
     "output_type": "execute_result"
    }
   ],
   "source": [
    "fmt.Printf(\"%d\", s3[0])"
   ]
  },
  {
   "cell_type": "code",
   "execution_count": 128,
   "id": "68706be1",
   "metadata": {},
   "outputs": [
    {
     "name": "stdout",
     "output_type": "stream",
     "text": [
      "1101000"
     ]
    },
    {
     "data": {
      "text/plain": [
       "7 <nil>"
      ]
     },
     "execution_count": 128,
     "metadata": {},
     "output_type": "execute_result"
    }
   ],
   "source": [
    "fmt.Printf(\"%b\", s3[0])"
   ]
  },
  {
   "cell_type": "code",
   "execution_count": 129,
   "id": "34d7f9ae",
   "metadata": {},
   "outputs": [
    {
     "name": "stdout",
     "output_type": "stream",
     "text": [
      "0x68"
     ]
    },
    {
     "data": {
      "text/plain": [
       "4 <nil>"
      ]
     },
     "execution_count": 129,
     "metadata": {},
     "output_type": "execute_result"
    }
   ],
   "source": [
    "fmt.Printf(\"%#x\", s3[0])"
   ]
  },
  {
   "cell_type": "markdown",
   "id": "550c0bfe",
   "metadata": {},
   "source": [
    "# constants"
   ]
  },
  {
   "cell_type": "code",
   "execution_count": 130,
   "id": "f0a85f8e",
   "metadata": {},
   "outputs": [],
   "source": [
    "const a = 42\n",
    "const b = 42.70\n",
    "const c = \"a string const\""
   ]
  },
  {
   "cell_type": "code",
   "execution_count": 131,
   "id": "a7db7dc8",
   "metadata": {},
   "outputs": [
    {
     "data": {
      "text/plain": [
       "42"
      ]
     },
     "execution_count": 131,
     "metadata": {},
     "output_type": "execute_result"
    }
   ],
   "source": [
    "a"
   ]
  },
  {
   "cell_type": "code",
   "execution_count": 132,
   "id": "0873ed94",
   "metadata": {},
   "outputs": [
    {
     "data": {
      "text/plain": [
       "42.7"
      ]
     },
     "execution_count": 132,
     "metadata": {},
     "output_type": "execute_result"
    }
   ],
   "source": [
    "b"
   ]
  },
  {
   "cell_type": "code",
   "execution_count": 133,
   "id": "f2a4a166",
   "metadata": {},
   "outputs": [
    {
     "data": {
      "text/plain": [
       "a string const"
      ]
     },
     "execution_count": 133,
     "metadata": {},
     "output_type": "execute_result"
    }
   ],
   "source": [
    "c"
   ]
  },
  {
   "cell_type": "code",
   "execution_count": 134,
   "id": "8b27c1a6",
   "metadata": {},
   "outputs": [
    {
     "ename": "ERROR",
     "evalue": "repl.go:1:9: expected ';', found ':='",
     "output_type": "error",
     "traceback": [
      "repl.go:1:9: expected ';', found ':='"
     ]
    }
   ],
   "source": [
    "const d := h"
   ]
  },
  {
   "cell_type": "code",
   "execution_count": 135,
   "id": "8447b4c6",
   "metadata": {},
   "outputs": [
    {
     "data": {
      "text/plain": [
       "true"
      ]
     },
     "execution_count": 135,
     "metadata": {},
     "output_type": "execute_result"
    }
   ],
   "source": [
    "'h' == \"h\""
   ]
  },
  {
   "cell_type": "code",
   "execution_count": 136,
   "id": "52788b6d",
   "metadata": {},
   "outputs": [
    {
     "data": {
      "text/plain": [
       "true"
      ]
     },
     "execution_count": 136,
     "metadata": {},
     "output_type": "execute_result"
    }
   ],
   "source": [
    "\"h\" == 'h'"
   ]
  },
  {
   "cell_type": "code",
   "execution_count": 137,
   "id": "bc7b6f8e",
   "metadata": {},
   "outputs": [
    {
     "data": {
      "text/plain": [
       "72"
      ]
     },
     "execution_count": 137,
     "metadata": {},
     "output_type": "execute_result"
    }
   ],
   "source": [
    "\"H\"[0]"
   ]
  },
  {
   "cell_type": "code",
   "execution_count": 140,
   "id": "9a2aa5dc",
   "metadata": {},
   "outputs": [
    {
     "data": {
      "text/plain": [
       "true"
      ]
     },
     "execution_count": 140,
     "metadata": {},
     "output_type": "execute_result"
    }
   ],
   "source": [
    "rune(\"h\"[0]) == 'h'"
   ]
  },
  {
   "cell_type": "code",
   "execution_count": 142,
   "id": "2e594de9",
   "metadata": {},
   "outputs": [
    {
     "data": {
      "text/plain": [
       "1"
      ]
     },
     "execution_count": 142,
     "metadata": {},
     "output_type": "execute_result"
    }
   ],
   "source": [
    "const e int = 1\n",
    "e"
   ]
  },
  {
   "cell_type": "markdown",
   "id": "fc634168",
   "metadata": {},
   "source": [
    "# iota"
   ]
  },
  {
   "cell_type": "code",
   "execution_count": 150,
   "id": "2533ebf5",
   "metadata": {},
   "outputs": [
    {
     "data": {
      "text/plain": [
       "4"
      ]
     },
     "execution_count": 150,
     "metadata": {},
     "output_type": "execute_result"
    }
   ],
   "source": [
    "const (\n",
    "    f = iota\n",
    "    g = iota\n",
    "    h = iota\n",
    "    i = iota + 1\n",
    ")\n",
    "f // 0\n",
    "g // 1\n",
    "h // 2 \n",
    "i // 4"
   ]
  },
  {
   "cell_type": "code",
   "execution_count": 148,
   "id": "b0c43b60",
   "metadata": {},
   "outputs": [
    {
     "name": "stdout",
     "output_type": "stream",
     "text": [
      "int"
     ]
    },
    {
     "data": {
      "text/plain": [
       "3 <nil>"
      ]
     },
     "execution_count": 148,
     "metadata": {},
     "output_type": "execute_result"
    }
   ],
   "source": [
    "fmt.Printf(\"%T\", f)"
   ]
  },
  {
   "cell_type": "code",
   "execution_count": 151,
   "id": "33880795",
   "metadata": {},
   "outputs": [
    {
     "data": {
      "text/plain": [
       "0"
      ]
     },
     "execution_count": 151,
     "metadata": {},
     "output_type": "execute_result"
    }
   ],
   "source": [
    "f"
   ]
  },
  {
   "cell_type": "code",
   "execution_count": 152,
   "id": "a92e50a0",
   "metadata": {},
   "outputs": [
    {
     "data": {
      "text/plain": [
       "1"
      ]
     },
     "execution_count": 152,
     "metadata": {},
     "output_type": "execute_result"
    }
   ],
   "source": [
    "g"
   ]
  },
  {
   "cell_type": "code",
   "execution_count": 153,
   "id": "046dbefd",
   "metadata": {},
   "outputs": [
    {
     "data": {
      "text/plain": [
       "2"
      ]
     },
     "execution_count": 153,
     "metadata": {},
     "output_type": "execute_result"
    }
   ],
   "source": [
    "h"
   ]
  },
  {
   "cell_type": "code",
   "execution_count": 154,
   "id": "6423ca58",
   "metadata": {},
   "outputs": [
    {
     "data": {
      "text/plain": [
       "4"
      ]
     },
     "execution_count": 154,
     "metadata": {},
     "output_type": "execute_result"
    }
   ],
   "source": [
    "i"
   ]
  },
  {
   "cell_type": "code",
   "execution_count": 159,
   "id": "b0989119",
   "metadata": {},
   "outputs": [],
   "source": [
    "const (\n",
    "    o = iota + 1\n",
    "    p = iota\n",
    "    q = iota\n",
    ")\n"
   ]
  },
  {
   "cell_type": "code",
   "execution_count": 160,
   "id": "f757f67f",
   "metadata": {},
   "outputs": [
    {
     "data": {
      "text/plain": [
       "1"
      ]
     },
     "execution_count": 160,
     "metadata": {},
     "output_type": "execute_result"
    }
   ],
   "source": [
    "o"
   ]
  },
  {
   "cell_type": "code",
   "execution_count": 161,
   "id": "5cd27c88",
   "metadata": {},
   "outputs": [
    {
     "data": {
      "text/plain": [
       "1"
      ]
     },
     "execution_count": 161,
     "metadata": {},
     "output_type": "execute_result"
    }
   ],
   "source": [
    "p"
   ]
  },
  {
   "cell_type": "code",
   "execution_count": 162,
   "id": "eaaa0b5f",
   "metadata": {},
   "outputs": [
    {
     "data": {
      "text/plain": [
       "2"
      ]
     },
     "execution_count": 162,
     "metadata": {},
     "output_type": "execute_result"
    }
   ],
   "source": [
    "q"
   ]
  },
  {
   "cell_type": "code",
   "execution_count": 164,
   "id": "1d14c21c",
   "metadata": {},
   "outputs": [],
   "source": [
    "const (\n",
    "    r = iota\n",
    "    s\n",
    "    t\n",
    ")"
   ]
  },
  {
   "cell_type": "code",
   "execution_count": 165,
   "id": "9864149d",
   "metadata": {},
   "outputs": [
    {
     "data": {
      "text/plain": [
       "0"
      ]
     },
     "execution_count": 165,
     "metadata": {},
     "output_type": "execute_result"
    }
   ],
   "source": [
    "r"
   ]
  },
  {
   "cell_type": "code",
   "execution_count": 166,
   "id": "86e64162",
   "metadata": {},
   "outputs": [
    {
     "data": {
      "text/plain": [
       "1"
      ]
     },
     "execution_count": 166,
     "metadata": {},
     "output_type": "execute_result"
    }
   ],
   "source": [
    "s"
   ]
  },
  {
   "cell_type": "code",
   "execution_count": 167,
   "id": "51ada133",
   "metadata": {},
   "outputs": [
    {
     "data": {
      "text/plain": [
       "2"
      ]
     },
     "execution_count": 167,
     "metadata": {},
     "output_type": "execute_result"
    }
   ],
   "source": [
    "t"
   ]
  },
  {
   "cell_type": "markdown",
   "id": "1cfd6747",
   "metadata": {},
   "source": [
    "> https://blog.learngoprogramming.com/golang-const-type-enums-iota-bc4befd096d3"
   ]
  },
  {
   "cell_type": "code",
   "execution_count": null,
   "id": "12546c44",
   "metadata": {},
   "outputs": [],
   "source": []
  }
 ],
 "metadata": {
  "kernelspec": {
   "display_name": "Go",
   "language": "go",
   "name": "gophernotes"
  },
  "language_info": {
   "codemirror_mode": "",
   "file_extension": ".go",
   "mimetype": "",
   "name": "go",
   "nbconvert_exporter": "",
   "pygments_lexer": "",
   "version": "go1.23.0"
  }
 },
 "nbformat": 4,
 "nbformat_minor": 5
}
