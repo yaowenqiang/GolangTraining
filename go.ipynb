{
 "cells": [
  {
   "cell_type": "markdown",
   "id": "90156976",
   "metadata": {},
   "source": [
    "> install guid https://github.com/gopherdata/gophernotes"
   ]
  },
  {
   "cell_type": "code",
   "execution_count": 4,
   "id": "5e26b27f",
   "metadata": {},
   "outputs": [
    {
     "ename": "ERROR",
     "evalue": "repl.go:1:11: expected 'STRING', found newline",
     "output_type": "error",
     "traceback": [
      "repl.go:1:11: expected 'STRING', found newline"
     ]
    }
   ],
   "source": [
    "import fmt"
   ]
  },
  {
   "cell_type": "code",
   "execution_count": 5,
   "id": "42e8d95e",
   "metadata": {},
   "outputs": [
    {
     "name": "stderr",
     "output_type": "stream",
     "text": [
      "hello world\n"
     ]
    }
   ],
   "source": [
    "println(\"hello world\")"
   ]
  },
  {
   "cell_type": "code",
   "execution_count": 2,
   "id": "65cc9f4b",
   "metadata": {},
   "outputs": [
    {
     "data": {
      "text/plain": [
       "42"
      ]
     },
     "execution_count": 2,
     "metadata": {},
     "output_type": "execute_result"
    }
   ],
   "source": [
    "x := 42\n",
    "x"
   ]
  },
  {
   "cell_type": "code",
   "execution_count": 2,
   "id": "ed9a4c6c",
   "metadata": {},
   "outputs": [
    {
     "data": {
      "text/plain": [
       "3"
      ]
     },
     "execution_count": 2,
     "metadata": {},
     "output_type": "execute_result"
    }
   ],
   "source": [
    "var y = 3\n",
    "y"
   ]
  },
  {
   "cell_type": "code",
   "execution_count": 5,
   "id": "3db4d488",
   "metadata": {},
   "outputs": [
    {
     "name": "stdout",
     "output_type": "stream",
     "text": [
      "again: 123\n"
     ]
    }
   ],
   "source": [
    "import (\n",
    "    \"fmt\"\n",
    ")\n",
    "\n",
    "func foo() {\n",
    "    y := 123\n",
    "    fmt.Println(\"again:\", y)\n",
    "}\n",
    "\n",
    "foo()"
   ]
  },
  {
   "cell_type": "code",
   "execution_count": 6,
   "id": "077374bd",
   "metadata": {},
   "outputs": [],
   "source": [
    "var z int"
   ]
  },
  {
   "cell_type": "code",
   "execution_count": 7,
   "id": "e3a3b88d",
   "metadata": {},
   "outputs": [
    {
     "data": {
      "text/plain": [
       "0"
      ]
     },
     "execution_count": 7,
     "metadata": {},
     "output_type": "execute_result"
    }
   ],
   "source": [
    "z"
   ]
  },
  {
   "cell_type": "markdown",
   "id": "0b444d9e",
   "metadata": {},
   "source": [
    "# print variable type"
   ]
  },
  {
   "cell_type": "code",
   "execution_count": 8,
   "id": "47b896ae",
   "metadata": {},
   "outputs": [
    {
     "ename": "ERROR",
     "evalue": "repl.go:1:5: missing variable type or initialization",
     "output_type": "error",
     "traceback": [
      "repl.go:1:5: missing variable type or initialization"
     ]
    }
   ],
   "source": [
    "var xyz"
   ]
  },
  {
   "cell_type": "code",
   "execution_count": 20,
   "id": "1b156de3",
   "metadata": {},
   "outputs": [
    {
     "name": "stdout",
     "output_type": "stream",
     "text": [
      "int\n",
      "string\n",
      "{}%!(EXTRA string=\"hi)"
     ]
    },
    {
     "data": {
      "text/plain": [
       "22 <nil>"
      ]
     },
     "execution_count": 20,
     "metadata": {},
     "output_type": "execute_result"
    }
   ],
   "source": [
    "import \"fmt\"\n",
    "var y = 42\n",
    "// print variable type\n",
    "fmt.Printf(\"%T\\n\", y)\n",
    "var z string = \"Shaken ,not stirred\"\n",
    "fmt.Printf(\"%T\\n\", z)\n",
    "var quote_str = \"\\\"hi\"\n",
    "// `hi \"how are you\"`\n",
    "fmt.Printf(\"{}\", quote_str)"
   ]
  },
  {
   "cell_type": "code",
   "execution_count": 37,
   "id": "bc094aa5",
   "metadata": {},
   "outputs": [
    {
     "name": "stdout",
     "output_type": "stream",
     "text": [
      "42\n",
      "int101010\n",
      "2a\n",
      "0x2a\n",
      "0x2a\t101010\t2a\n",
      "0x2a\t101010\t2a\n",
      "42"
     ]
    },
    {
     "data": {
      "text/plain": [
       "2 <nil>"
      ]
     },
     "execution_count": 37,
     "metadata": {},
     "output_type": "execute_result"
    }
   ],
   "source": [
    "import \"fmt\"\n",
    "var y = 42\n",
    "fmt.Println(y)\n",
    "fmt.Printf(\"%T\", y)\n",
    "fmt.Printf(\"%b\\n\", y)\n",
    "fmt.Printf(\"%x\\n\", y)\n",
    "fmt.Printf(\"%#x\\n\", y)\n",
    "fmt.Printf(\"%#x\\t%b\\t%x\\n\", y, y, y)\n",
    "\n",
    "s := fmt.Sprintf(\"%#x\\t%b\\t%x\\n\", y, y, y)\n",
    "fmt.Printf(s)\n",
    "\n",
    "fmt.Printf(\"%v\", y)"
   ]
  },
  {
   "cell_type": "markdown",
   "id": "501010cd",
   "metadata": {},
   "source": [
    "## custom types and type conversing"
   ]
  },
  {
   "cell_type": "code",
   "execution_count": 44,
   "id": "0f73be14",
   "metadata": {},
   "outputs": [
    {
     "name": "stdout",
     "output_type": "stream",
     "text": [
      "int\n",
      "int\n"
     ]
    },
    {
     "data": {
      "text/plain": [
       "4 <nil>"
      ]
     },
     "execution_count": 44,
     "metadata": {},
     "output_type": "execute_result"
    }
   ],
   "source": [
    "type hotdog int\n",
    "var b hotdog\n",
    "b = 42\n",
    "fmt.Printf(\"%T\\n\", b)\n",
    "var a int\n",
    "a = int(b)\n",
    "fmt.Printf(\"%T\\n\", a)\n"
   ]
  },
  {
   "cell_type": "markdown",
   "id": "bab77744",
   "metadata": {},
   "source": [
    "# boolean types"
   ]
  },
  {
   "cell_type": "code",
   "execution_count": 49,
   "id": "d9719539",
   "metadata": {},
   "outputs": [
    {
     "data": {
      "text/plain": [
       "false"
      ]
     },
     "execution_count": 49,
     "metadata": {},
     "output_type": "execute_result"
    }
   ],
   "source": [
    "var x bool\n",
    "x"
   ]
  },
  {
   "cell_type": "code",
   "execution_count": 50,
   "id": "19cb7907",
   "metadata": {},
   "outputs": [
    {
     "data": {
      "text/plain": [
       "false"
      ]
     },
     "execution_count": 50,
     "metadata": {},
     "output_type": "execute_result"
    }
   ],
   "source": [
    "a = 3\n",
    "c = 4\n",
    "a == c"
   ]
  },
  {
   "cell_type": "code",
   "execution_count": null,
   "id": "7dd2832e",
   "metadata": {},
   "outputs": [],
   "source": []
  }
 ],
 "metadata": {
  "kernelspec": {
   "display_name": "Go",
   "language": "go",
   "name": "gophernotes"
  },
  "language_info": {
   "codemirror_mode": "",
   "file_extension": ".go",
   "mimetype": "",
   "name": "go",
   "nbconvert_exporter": "",
   "pygments_lexer": "",
   "version": "go1.23.0"
  }
 },
 "nbformat": 4,
 "nbformat_minor": 5
}
